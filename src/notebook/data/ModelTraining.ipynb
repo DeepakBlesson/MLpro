{
 "cells": [
  {
   "cell_type": "code",
   "execution_count": 19,
   "metadata": {},
   "outputs": [],
   "source": [
    "import pandas as pd\n",
    "import numpy as np\n",
    "import matplotlib.pyplot as plt\n",
    "import seaborn as sns\n",
    "\n",
    "# Modelling\n",
    "from sklearn.metrics import mean_squared_error,r2_score,mean_absolute_error,mean_squared_error\n",
    "from sklearn.neighbors import KNeighborsRegressor\n",
    "from sklearn.tree import DecisionTreeRegressor\n",
    "from sklearn.ensemble import RandomForestRegressor, AdaBoostClassifier\n",
    "from sklearn.svm import SVR\n",
    "from sklearn.linear_model import LinearRegression,Ridge,Lasso\n",
    "from sklearn.model_selection import RandomizedSearchCV\n",
    "from catboost import CatBoostRegressor\n",
    "from xgboost import XGBRegressor\n",
    "\n",
    "import warnings\n",
    "\n"
   ]
  },
  {
   "cell_type": "code",
   "execution_count": 32,
   "metadata": {},
   "outputs": [
    {
     "data": {
      "text/html": [
       "<div>\n",
       "<style scoped>\n",
       "    .dataframe tbody tr th:only-of-type {\n",
       "        vertical-align: middle;\n",
       "    }\n",
       "\n",
       "    .dataframe tbody tr th {\n",
       "        vertical-align: top;\n",
       "    }\n",
       "\n",
       "    .dataframe thead th {\n",
       "        text-align: right;\n",
       "    }\n",
       "</style>\n",
       "<table border=\"1\" class=\"dataframe\">\n",
       "  <thead>\n",
       "    <tr style=\"text-align: right;\">\n",
       "      <th></th>\n",
       "      <th>gender</th>\n",
       "      <th>logical reasoning</th>\n",
       "      <th>learning style</th>\n",
       "      <th>stress level</th>\n",
       "      <th>tutions</th>\n",
       "      <th>math score</th>\n",
       "      <th>reading score</th>\n",
       "      <th>writing score</th>\n",
       "    </tr>\n",
       "  </thead>\n",
       "  <tbody>\n",
       "    <tr>\n",
       "      <th>0</th>\n",
       "      <td>female</td>\n",
       "      <td>average</td>\n",
       "      <td>auditory learning</td>\n",
       "      <td>medium</td>\n",
       "      <td>self study</td>\n",
       "      <td>72</td>\n",
       "      <td>72</td>\n",
       "      <td>74</td>\n",
       "    </tr>\n",
       "    <tr>\n",
       "      <th>1</th>\n",
       "      <td>female</td>\n",
       "      <td>very strong</td>\n",
       "      <td>kinesthetic learning</td>\n",
       "      <td>medium</td>\n",
       "      <td>tutor</td>\n",
       "      <td>69</td>\n",
       "      <td>90</td>\n",
       "      <td>88</td>\n",
       "    </tr>\n",
       "    <tr>\n",
       "      <th>2</th>\n",
       "      <td>female</td>\n",
       "      <td>average</td>\n",
       "      <td>solitary learning</td>\n",
       "      <td>medium</td>\n",
       "      <td>self study</td>\n",
       "      <td>90</td>\n",
       "      <td>95</td>\n",
       "      <td>93</td>\n",
       "    </tr>\n",
       "    <tr>\n",
       "      <th>3</th>\n",
       "      <td>male</td>\n",
       "      <td>very weak</td>\n",
       "      <td>reading/writing learning</td>\n",
       "      <td>high</td>\n",
       "      <td>self study</td>\n",
       "      <td>47</td>\n",
       "      <td>57</td>\n",
       "      <td>44</td>\n",
       "    </tr>\n",
       "    <tr>\n",
       "      <th>4</th>\n",
       "      <td>male</td>\n",
       "      <td>very strong</td>\n",
       "      <td>kinesthetic learning</td>\n",
       "      <td>medium</td>\n",
       "      <td>self study</td>\n",
       "      <td>76</td>\n",
       "      <td>78</td>\n",
       "      <td>75</td>\n",
       "    </tr>\n",
       "  </tbody>\n",
       "</table>\n",
       "</div>"
      ],
      "text/plain": [
       "   gender logical reasoning            learning style stress level  \\\n",
       "0  female           average         auditory learning       medium   \n",
       "1  female       very strong      kinesthetic learning       medium   \n",
       "2  female           average         solitary learning       medium   \n",
       "3    male         very weak  reading/writing learning         high   \n",
       "4    male       very strong      kinesthetic learning       medium   \n",
       "\n",
       "      tutions  math score  reading score  writing score  \n",
       "0  self study          72             72             74  \n",
       "1       tutor          69             90             88  \n",
       "2  self study          90             95             93  \n",
       "3  self study          47             57             44  \n",
       "4  self study          76             78             75  "
      ]
     },
     "execution_count": 32,
     "metadata": {},
     "output_type": "execute_result"
    }
   ],
   "source": [
    "df=pd.read_csv('C:/datascience/new_dataset.csv')\n",
    "df.head()"
   ]
  },
  {
   "cell_type": "markdown",
   "metadata": {},
   "source": [
    "# Preparing X and Y variables "
   ]
  },
  {
   "cell_type": "code",
   "execution_count": 57,
   "metadata": {},
   "outputs": [],
   "source": [
    "x= df.drop(columns=['math score'],axis=1)"
   ]
  },
  {
   "cell_type": "code",
   "execution_count": 58,
   "metadata": {},
   "outputs": [],
   "source": [
    "y=df['math score']"
   ]
  },
  {
   "cell_type": "code",
   "execution_count": 59,
   "metadata": {},
   "outputs": [],
   "source": [
    "num_features=x.select_dtypes(exclude='object').columns\n",
    "cat_features=x.select_dtypes(include='object').columns\n",
    "from sklearn.preprocessing import OneHotEncoder,StandardScaler\n",
    "from sklearn.compose import ColumnTransformer\n",
    "\n",
    "numeric_transformer = StandardScaler()\n",
    "ohe_transformer= OneHotEncoder()\n",
    "preprocessor = ColumnTransformer(\n",
    "    [ \n",
    "        ('OneHotEncoder',ohe_transformer,cat_features),\n",
    "        ('StandardScaler',numeric_transformer,num_features)\n",
    "\n",
    "])"
   ]
  },
  {
   "cell_type": "code",
   "execution_count": 60,
   "metadata": {},
   "outputs": [],
   "source": [
    "x= preprocessor.fit_transform(x)"
   ]
  },
  {
   "cell_type": "code",
   "execution_count": 61,
   "metadata": {},
   "outputs": [
    {
     "data": {
      "text/plain": [
       "(1000, 19)"
      ]
     },
     "execution_count": 61,
     "metadata": {},
     "output_type": "execute_result"
    }
   ],
   "source": [
    "x.shape"
   ]
  },
  {
   "cell_type": "code",
   "execution_count": 62,
   "metadata": {},
   "outputs": [
    {
     "data": {
      "text/plain": [
       "((800, 19), (200, 19))"
      ]
     },
     "execution_count": 62,
     "metadata": {},
     "output_type": "execute_result"
    }
   ],
   "source": [
    "from sklearn.model_selection import train_test_split\n",
    "X_train,X_test,Y_train,Y_test=train_test_split(x,y,test_size=0.2,random_state=42)\n",
    "X_train.shape, X_test.shape"
   ]
  },
  {
   "cell_type": "markdown",
   "metadata": {},
   "source": [
    "# Create an evaluate function to give all metrics after model training"
   ]
  },
  {
   "cell_type": "code",
   "execution_count": 63,
   "metadata": {},
   "outputs": [],
   "source": [
    "def eval_func(true,predicted):\n",
    "    mae=mean_absolute_error(true,predicted)\n",
    "    mse=mean_squared_error(true,predicted)\n",
    "    rmse=np.sqrt(mean_squared_error(true,predicted))\n",
    "    r2_scr= r2_score(true,predicted)\n",
    "    return mae,rmse,r2_scr\n"
   ]
  },
  {
   "cell_type": "code",
   "execution_count": 64,
   "metadata": {},
   "outputs": [
    {
     "name": "stdout",
     "output_type": "stream",
     "text": [
      "Lasso\n",
      "Model performance for training set\n",
      "- Root mean squared error :6.5938\n",
      "- Mean absolute error :5.2063\n",
      "- R2 score :0.8071 \n",
      "---------------------------------------------\n",
      "Model performance for testing set\n",
      "- Root mean squared error :6.5197\n",
      "- Mean absolute error :5.1579\n",
      "- R2 score :0.8253\n",
      "-------------------------------------------------\n",
      "\n",
      "\n",
      "KNeighborsRegressor\n",
      "Model performance for training set\n",
      "- Root mean squared error :5.7066\n",
      "- Mean absolute error :4.5137\n",
      "- R2 score :0.8556 \n",
      "---------------------------------------------\n",
      "Model performance for testing set\n",
      "- Root mean squared error :7.2530\n",
      "- Mean absolute error :5.6210\n",
      "- R2 score :0.7838\n",
      "-------------------------------------------------\n",
      "\n",
      "\n",
      "DecisionTreeRegressor\n",
      "Model performance for training set\n",
      "- Root mean squared error :0.2795\n",
      "- Mean absolute error :0.0187\n",
      "- R2 score :0.9997 \n",
      "---------------------------------------------\n",
      "Model performance for testing set\n",
      "- Root mean squared error :8.1096\n",
      "- Mean absolute error :6.3150\n",
      "- R2 score :0.7297\n",
      "-------------------------------------------------\n",
      "\n",
      "\n",
      "RandomForestRegressor\n",
      "Model performance for training set\n",
      "- Root mean squared error :2.2879\n",
      "- Mean absolute error :1.8239\n",
      "- R2 score :0.9768 \n",
      "---------------------------------------------\n",
      "Model performance for testing set\n",
      "- Root mean squared error :5.9728\n",
      "- Mean absolute error :4.6282\n",
      "- R2 score :0.8534\n",
      "-------------------------------------------------\n",
      "\n",
      "\n",
      "AdaBoostClassifier\n",
      "Model performance for training set\n",
      "- Root mean squared error :11.9170\n",
      "- Mean absolute error :9.3588\n",
      "- R2 score :0.3701 \n",
      "---------------------------------------------\n",
      "Model performance for testing set\n",
      "- Root mean squared error :11.7970\n",
      "- Mean absolute error :9.2200\n",
      "- R2 score :0.4281\n",
      "-------------------------------------------------\n",
      "\n",
      "\n",
      "SVR\n",
      "Model performance for training set\n",
      "- Root mean squared error :6.5770\n",
      "- Mean absolute error :4.8692\n",
      "- R2 score :0.8081 \n",
      "---------------------------------------------\n",
      "Model performance for testing set\n",
      "- Root mean squared error :8.1266\n",
      "- Mean absolute error :5.4015\n",
      "- R2 score :0.7286\n",
      "-------------------------------------------------\n",
      "\n",
      "\n",
      "LinearRegression\n",
      "Model performance for training set\n",
      "- Root mean squared error :5.3258\n",
      "- Mean absolute error :4.2699\n",
      "- R2 score :0.8742 \n",
      "---------------------------------------------\n",
      "Model performance for testing set\n",
      "- Root mean squared error :5.4269\n",
      "- Mean absolute error :4.2381\n",
      "- R2 score :0.8790\n",
      "-------------------------------------------------\n",
      "\n",
      "\n",
      "Ridge\n",
      "Model performance for training set\n",
      "- Root mean squared error :5.3233\n",
      "- Mean absolute error :4.2650\n",
      "- R2 score :0.8743 \n",
      "---------------------------------------------\n",
      "Model performance for testing set\n",
      "- Root mean squared error :5.3904\n",
      "- Mean absolute error :4.2111\n",
      "- R2 score :0.8806\n",
      "-------------------------------------------------\n",
      "\n",
      "\n",
      "CatBoostRegressor\n",
      "Model performance for training set\n",
      "- Root mean squared error :3.0107\n",
      "- Mean absolute error :2.3826\n",
      "- R2 score :0.9598 \n",
      "---------------------------------------------\n",
      "Model performance for testing set\n",
      "- Root mean squared error :6.0331\n",
      "- Mean absolute error :4.6128\n",
      "- R2 score :0.8504\n",
      "-------------------------------------------------\n",
      "\n",
      "\n",
      "XGBRegressor\n",
      "Model performance for training set\n",
      "- Root mean squared error :1.0073\n",
      "- Mean absolute error :0.6875\n",
      "- R2 score :0.9955 \n",
      "---------------------------------------------\n",
      "Model performance for testing set\n",
      "- Root mean squared error :6.4640\n",
      "- Mean absolute error :5.0505\n",
      "- R2 score :0.8283\n",
      "-------------------------------------------------\n",
      "\n",
      "\n"
     ]
    }
   ],
   "source": [
    "models = {\n",
    "            \"Lasso\": Lasso(),\n",
    "            \"KNeighborsRegressor\": KNeighborsRegressor(),\n",
    "            \"DecisionTreeRegressor\": DecisionTreeRegressor(),\n",
    "            \"RandomForestRegressor\": RandomForestRegressor(), \n",
    "            \"AdaBoostClassifier\": AdaBoostClassifier(),\n",
    "            \"SVR\": SVR(),\n",
    "            \"LinearRegression\": LinearRegression(),\n",
    "            \"Ridge\":Ridge(),\n",
    "            \"Lasso\": Lasso(),\n",
    "            \"CatBoostRegressor\": CatBoostRegressor(verbose=False),\n",
    "            \"XGBRegressor\": XGBRegressor()\n",
    "}\n",
    "model_List =[]\n",
    "r2_List =[]\n",
    "\n",
    "for i in range(len(list(models))):\n",
    "    model = list(models.values())[i]\n",
    "    #Train model\n",
    "    model.fit(X_train,Y_train)\n",
    "    #Make predictions\n",
    "    y_train_pred = model.predict(X_train)\n",
    "    Y_test_pred = model.predict(X_test)\n",
    "    #Evaluate train and test dataset\n",
    "    mae_train, rmse_train, r2_score_train = eval_func(Y_train,y_train_pred)\n",
    "    mae_test, rmse_test, r2_score_test = eval_func(Y_test,Y_test_pred)\n",
    "\n",
    "    print(list(models.keys())[i])\n",
    "    model_List.append(list(models.keys())[i])\n",
    "\n",
    "    print(\"Model performance for training set\")\n",
    "    print(\"- Root mean squared error :{:.4f}\".format(rmse_train))\n",
    "    print(\"- Mean absolute error :{:.4f}\".format(mae_train))\n",
    "    print(\"- R2 score :{:.4f} \".format(r2_score_train))\n",
    "\n",
    "    print(\"---------------------------------------------\")\n",
    "\n",
    "    print(\"Model performance for testing set\")\n",
    "    print(\"- Root mean squared error :{:.4f}\".format(rmse_test))\n",
    "    print(\"- Mean absolute error :{:.4f}\".format(mae_test))\n",
    "    print(\"- R2 score :{:.4f}\".format(r2_score_test))\n",
    "    r2_List.append(r2_score_test)\n",
    "    \n",
    "    print('-------------------------------------------------')\n",
    "    print(\"\\n\")\n",
    "\n",
    "\n",
    "\n",
    "\n",
    "\n",
    "\n"
   ]
  },
  {
   "cell_type": "markdown",
   "metadata": {},
   "source": [
    "# Results"
   ]
  },
  {
   "cell_type": "code",
   "execution_count": 65,
   "metadata": {},
   "outputs": [
    {
     "data": {
      "text/html": [
       "<div>\n",
       "<style scoped>\n",
       "    .dataframe tbody tr th:only-of-type {\n",
       "        vertical-align: middle;\n",
       "    }\n",
       "\n",
       "    .dataframe tbody tr th {\n",
       "        vertical-align: top;\n",
       "    }\n",
       "\n",
       "    .dataframe thead th {\n",
       "        text-align: right;\n",
       "    }\n",
       "</style>\n",
       "<table border=\"1\" class=\"dataframe\">\n",
       "  <thead>\n",
       "    <tr style=\"text-align: right;\">\n",
       "      <th></th>\n",
       "      <th>Models</th>\n",
       "      <th>R2 score</th>\n",
       "    </tr>\n",
       "  </thead>\n",
       "  <tbody>\n",
       "    <tr>\n",
       "      <th>7</th>\n",
       "      <td>Ridge</td>\n",
       "      <td>0.880593</td>\n",
       "    </tr>\n",
       "    <tr>\n",
       "      <th>6</th>\n",
       "      <td>LinearRegression</td>\n",
       "      <td>0.878970</td>\n",
       "    </tr>\n",
       "    <tr>\n",
       "      <th>3</th>\n",
       "      <td>RandomForestRegressor</td>\n",
       "      <td>0.853395</td>\n",
       "    </tr>\n",
       "    <tr>\n",
       "      <th>8</th>\n",
       "      <td>CatBoostRegressor</td>\n",
       "      <td>0.850422</td>\n",
       "    </tr>\n",
       "    <tr>\n",
       "      <th>9</th>\n",
       "      <td>XGBRegressor</td>\n",
       "      <td>0.828289</td>\n",
       "    </tr>\n",
       "    <tr>\n",
       "      <th>0</th>\n",
       "      <td>Lasso</td>\n",
       "      <td>0.825320</td>\n",
       "    </tr>\n",
       "    <tr>\n",
       "      <th>1</th>\n",
       "      <td>KNeighborsRegressor</td>\n",
       "      <td>0.783813</td>\n",
       "    </tr>\n",
       "    <tr>\n",
       "      <th>2</th>\n",
       "      <td>DecisionTreeRegressor</td>\n",
       "      <td>0.729739</td>\n",
       "    </tr>\n",
       "    <tr>\n",
       "      <th>5</th>\n",
       "      <td>SVR</td>\n",
       "      <td>0.728600</td>\n",
       "    </tr>\n",
       "    <tr>\n",
       "      <th>4</th>\n",
       "      <td>AdaBoostClassifier</td>\n",
       "      <td>0.428080</td>\n",
       "    </tr>\n",
       "  </tbody>\n",
       "</table>\n",
       "</div>"
      ],
      "text/plain": [
       "                  Models  R2 score\n",
       "7                  Ridge  0.880593\n",
       "6       LinearRegression  0.878970\n",
       "3  RandomForestRegressor  0.853395\n",
       "8      CatBoostRegressor  0.850422\n",
       "9           XGBRegressor  0.828289\n",
       "0                  Lasso  0.825320\n",
       "1    KNeighborsRegressor  0.783813\n",
       "2  DecisionTreeRegressor  0.729739\n",
       "5                    SVR  0.728600\n",
       "4     AdaBoostClassifier  0.428080"
      ]
     },
     "execution_count": 65,
     "metadata": {},
     "output_type": "execute_result"
    }
   ],
   "source": [
    "pd.DataFrame(list(zip(model_List,r2_List)),columns=['Models','R2 score']).sort_values(by=['R2 score'],ascending=False)"
   ]
  },
  {
   "cell_type": "markdown",
   "metadata": {},
   "source": [
    "# Linear Regression"
   ]
  },
  {
   "cell_type": "code",
   "execution_count": 66,
   "metadata": {},
   "outputs": [
    {
     "name": "stdout",
     "output_type": "stream",
     "text": [
      "Accuracy of the model : 88.06\n"
     ]
    }
   ],
   "source": [
    "lin_model=Ridge(fit_intercept=True)\n",
    "lin_model=lin_model.fit(X_train,Y_train)\n",
    "y_pred = lin_model.predict(X_test)\n",
    "score=r2_score(Y_test,y_pred)*100\n",
    "print(\"Accuracy of the model : %.2f\" %score)\n",
    "\n"
   ]
  },
  {
   "cell_type": "markdown",
   "metadata": {},
   "source": [
    "# Plot Y_pred Y_test "
   ]
  },
  {
   "cell_type": "code",
   "execution_count": 67,
   "metadata": {},
   "outputs": [
    {
     "data": {
      "text/plain": [
       "Text(0, 0.5, 'predicted value')"
      ]
     },
     "execution_count": 67,
     "metadata": {},
     "output_type": "execute_result"
    },
    {
     "data": {
      "image/png": "[encoded data removed]",
      "text/plain": [
       "<Figure size 640x480 with 1 Axes>"
      ]
     },
     "metadata": {},
     "output_type": "display_data"
    }
   ],
   "source": [
    "plt.scatter(Y_test,y_pred)\n",
    "plt.xlabel('actual value')\n",
    "plt.ylabel('predicted value')"
   ]
  },
  {
   "cell_type": "code",
   "execution_count": 68,
   "metadata": {},
   "outputs": [
    {
     "data": {
      "text/plain": [
       "<Axes: xlabel='math score'>"
      ]
     },
     "execution_count": 68,
     "metadata": {},
     "output_type": "execute_result"
    },
    {
     "data": {
      "image/png": "[encoded data removed]",
      "text/plain": [
       "<Figure size 640x480 with 1 Axes>"
      ]
     },
     "metadata": {},
     "output_type": "display_data"
    }
   ],
   "source": [
    "sns.regplot(x=Y_test,y=y_pred,ci=None,color='green')"
   ]
  },
  {
   "cell_type": "markdown",
   "metadata": {},
   "source": [
    "# Difference between Y_test y_pred"
   ]
  },
  {
   "cell_type": "code",
   "execution_count": 69,
   "metadata": {},
   "outputs": [
    {
     "data": {
      "text/html": [
       "<div>\n",
       "<style scoped>\n",
       "    .dataframe tbody tr th:only-of-type {\n",
       "        vertical-align: middle;\n",
       "    }\n",
       "\n",
       "    .dataframe tbody tr th {\n",
       "        vertical-align: top;\n",
       "    }\n",
       "\n",
       "    .dataframe thead th {\n",
       "        text-align: right;\n",
       "    }\n",
       "</style>\n",
       "<table border=\"1\" class=\"dataframe\">\n",
       "  <thead>\n",
       "    <tr style=\"text-align: right;\">\n",
       "      <th></th>\n",
       "      <th>Actual value</th>\n",
       "      <th>Predicted value</th>\n",
       "      <th>Difference</th>\n",
       "    </tr>\n",
       "  </thead>\n",
       "  <tbody>\n",
       "    <tr>\n",
       "      <th>521</th>\n",
       "      <td>91</td>\n",
       "      <td>76.398705</td>\n",
       "      <td>14.601295</td>\n",
       "    </tr>\n",
       "    <tr>\n",
       "      <th>737</th>\n",
       "      <td>53</td>\n",
       "      <td>58.842469</td>\n",
       "      <td>-5.842469</td>\n",
       "    </tr>\n",
       "    <tr>\n",
       "      <th>740</th>\n",
       "      <td>80</td>\n",
       "      <td>76.992129</td>\n",
       "      <td>3.007871</td>\n",
       "    </tr>\n",
       "    <tr>\n",
       "      <th>660</th>\n",
       "      <td>74</td>\n",
       "      <td>76.805898</td>\n",
       "      <td>-2.805898</td>\n",
       "    </tr>\n",
       "    <tr>\n",
       "      <th>411</th>\n",
       "      <td>84</td>\n",
       "      <td>87.615387</td>\n",
       "      <td>-3.615387</td>\n",
       "    </tr>\n",
       "    <tr>\n",
       "      <th>678</th>\n",
       "      <td>81</td>\n",
       "      <td>78.915450</td>\n",
       "      <td>2.084550</td>\n",
       "    </tr>\n",
       "    <tr>\n",
       "      <th>626</th>\n",
       "      <td>69</td>\n",
       "      <td>64.715227</td>\n",
       "      <td>4.284773</td>\n",
       "    </tr>\n",
       "    <tr>\n",
       "      <th>513</th>\n",
       "      <td>54</td>\n",
       "      <td>53.044761</td>\n",
       "      <td>0.955239</td>\n",
       "    </tr>\n",
       "    <tr>\n",
       "      <th>859</th>\n",
       "      <td>87</td>\n",
       "      <td>74.115900</td>\n",
       "      <td>12.884100</td>\n",
       "    </tr>\n",
       "    <tr>\n",
       "      <th>136</th>\n",
       "      <td>51</td>\n",
       "      <td>49.366847</td>\n",
       "      <td>1.633153</td>\n",
       "    </tr>\n",
       "  </tbody>\n",
       "</table>\n",
       "</div>"
      ],
      "text/plain": [
       "     Actual value  Predicted value  Difference\n",
       "521            91        76.398705   14.601295\n",
       "737            53        58.842469   -5.842469\n",
       "740            80        76.992129    3.007871\n",
       "660            74        76.805898   -2.805898\n",
       "411            84        87.615387   -3.615387\n",
       "678            81        78.915450    2.084550\n",
       "626            69        64.715227    4.284773\n",
       "513            54        53.044761    0.955239\n",
       "859            87        74.115900   12.884100\n",
       "136            51        49.366847    1.633153"
      ]
     },
     "execution_count": 69,
     "metadata": {},
     "output_type": "execute_result"
    }
   ],
   "source": [
    "pred= pd.DataFrame({'Actual value':Y_test, 'Predicted value' :y_pred, 'Difference':Y_test-y_pred })\n",
    "pred.head(10)"
   ]
  },
  {
   "cell_type": "code",
   "execution_count": 70,
   "metadata": {},
   "outputs": [
    {
     "data": {
      "text/plain": [
       "array(['average', 'very strong', 'very weak', 'strong', 'weak'],\n",
       "      dtype=object)"
      ]
     },
     "execution_count": 70,
     "metadata": {},
     "output_type": "execute_result"
    }
   ],
   "source": [
    "df['logical reasoning'].unique()"
   ]
  },
  {
   "cell_type": "code",
   "execution_count": null,
   "metadata": {},
   "outputs": [],
   "source": []
  }
 ],
 "metadata": {
  "kernelspec": {
   "display_name": "Python 3",
   "language": "python",
   "name": "python3"
  },
  "language_info": {
   "codemirror_mode": {
    "name": "ipython",
    "version": 3
   },
   "file_extension": ".py",
   "mimetype": "text/x-python",
   "name": "python",
   "nbconvert_exporter": "python",
   "pygments_lexer": "ipython3",
   "version": "3.8.0"
  }
 },
 "nbformat": 4,
 "nbformat_minor": 2
}
